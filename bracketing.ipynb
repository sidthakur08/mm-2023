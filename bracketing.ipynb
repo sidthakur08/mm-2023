{
 "cells": [
  {
   "cell_type": "code",
   "execution_count": 40,
   "id": "9252ed8a",
   "metadata": {},
   "outputs": [],
   "source": [
    "import pandas as pd\n",
    "from tqdm import tqdm\n",
    "submission = pd.read_csv('computed_data/submission_logreg.csv')\n",
    "teams = pd.read_csv('data/MTeams.csv')"
   ]
  },
  {
   "cell_type": "code",
   "execution_count": 51,
   "id": "e968930c",
   "metadata": {},
   "outputs": [],
   "source": [
    "def get_team_name(team_id):\n",
    "    return teams[teams['TeamID'] == team_id]['TeamName'].values[0]\n",
    "\n",
    "def get_team_id(team_name):\n",
    "    return teams[teams['TeamName'] == team_name]['TeamID'][0]\n",
    "\n",
    "def get_win(t1, t2):\n",
    "    id = '2023_' + str(t1) + '_' + str(t2)\n",
    "    x = submission[submission['ID'] == id]['Pred'].values[0]\n",
    "    if (x<0.50):\n",
    "        return (get_team_name(t1)+' loses to ' + get_team_name(t2) + ' by ' + str(x))\n",
    "    else:\n",
    "        return (get_team_name(t1)+' wins against ' + get_team_name(t2) + ' by ' + str(x))"
   ]
  },
  {
   "cell_type": "code",
   "execution_count": 52,
   "id": "74149926",
   "metadata": {
    "scrolled": true
   },
   "outputs": [
    {
     "data": {
      "text/plain": [
       "'Abilene Chr loses to Air Force by 0.3778635023715184'"
      ]
     },
     "execution_count": 52,
     "metadata": {},
     "output_type": "execute_result"
    }
   ],
   "source": [
    "get_win(1101,1102)"
   ]
  },
  {
   "cell_type": "code",
   "execution_count": 59,
   "id": "67f1cb48",
   "metadata": {},
   "outputs": [
    {
     "name": "stderr",
     "output_type": "stream",
     "text": [
      "65703it [06:09, 177.68it/s]\n"
     ]
    }
   ],
   "source": [
    "lis = []\n",
    "for row in tqdm(submission.itertuples()):\n",
    "    team_1 = int(row.ID.split('_')[1])\n",
    "    if team_1 == 3101:\n",
    "        break\n",
    "    team_2 = int(row.ID.split('_')[2])\n",
    "    \n",
    "    lis.append([get_win(team_1, team_2)])\n",
    "    \n",
    "df = pd.DataFrame(lis, columns = ['pred'])\n",
    "\n",
    "df.to_csv('computed_data/predictions.csv')"
   ]
  },
  {
   "cell_type": "code",
   "execution_count": 58,
   "id": "0e8e8107",
   "metadata": {},
   "outputs": [],
   "source": [
    "df = pd.DataFrame(lis, columns = ['pred'])\n",
    "\n",
    "df.to_csv('computed_data/predictions.csv')"
   ]
  },
  {
   "cell_type": "code",
   "execution_count": null,
   "id": "fc2e920e",
   "metadata": {},
   "outputs": [],
   "source": []
  }
 ],
 "metadata": {
  "kernelspec": {
   "display_name": "Python 3 (ipykernel)",
   "language": "python",
   "name": "python3"
  },
  "language_info": {
   "codemirror_mode": {
    "name": "ipython",
    "version": 3
   },
   "file_extension": ".py",
   "mimetype": "text/x-python",
   "name": "python",
   "nbconvert_exporter": "python",
   "pygments_lexer": "ipython3",
   "version": "3.10.7"
  }
 },
 "nbformat": 4,
 "nbformat_minor": 5
}
