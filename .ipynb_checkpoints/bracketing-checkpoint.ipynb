{
 "cells": [
  {
   "cell_type": "code",
   "execution_count": 1,
   "id": "9252ed8a",
   "metadata": {},
   "outputs": [],
   "source": [
    "import pandas as pd\n",
    "submission = pd.read_csv('computed_data/submission_logreg.csv')\n",
    "teams = pd.read_csv('data/MTeams.csv')"
   ]
  },
  {
   "cell_type": "code",
   "execution_count": null,
   "id": "e968930c",
   "metadata": {},
   "outputs": [],
   "source": [
    "def get_team_name(team_id):\n",
    "    return teams[teams['TeamID'] == team_id]['TeamName']\n",
    "\n",
    "def get_team_id(team_name):\n",
    "    return teams[teams['TeamName'] == team_name]['TeamID']"
   ]
  }
 ],
 "metadata": {
  "kernelspec": {
   "display_name": "Python 3 (ipykernel)",
   "language": "python",
   "name": "python3"
  },
  "language_info": {
   "codemirror_mode": {
    "name": "ipython",
    "version": 3
   },
   "file_extension": ".py",
   "mimetype": "text/x-python",
   "name": "python",
   "nbconvert_exporter": "python",
   "pygments_lexer": "ipython3",
   "version": "3.10.7"
  }
 },
 "nbformat": 4,
 "nbformat_minor": 5
}
