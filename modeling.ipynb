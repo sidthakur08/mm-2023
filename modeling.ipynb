{
 "cells": [
  {
   "cell_type": "code",
   "execution_count": 22,
   "metadata": {},
   "outputs": [],
   "source": [
    "import pandas as pd\n",
    "from sklearn.model_selection import train_test_split\n",
    "from sklearn.linear_model import LogisticRegression, LogisticRegressionCV\n",
    "from sklearn.metrics import brier_score_loss\n",
    "\n",
    "pd.set_option('display.max_columns', 50)"
   ]
  },
  {
   "cell_type": "code",
   "execution_count": 17,
   "metadata": {},
   "outputs": [],
   "source": [
    "final_data = pd.read_csv('computed_data/reg_avg_data.csv')\n",
    "st1_data = final_data[final_data['Season']<2017]\n",
    "st1_data_x = st1_data.iloc[:,4:-1]\n",
    "st1_data_y = st1_data.iloc[:,-1]\n",
    "st2_data = final_data[final_data['Season']<2023]\n",
    "st2_data_x = st2_data.iloc[:,4:-1]\n",
    "st2_data_y = st2_data.iloc[:,-1]"
   ]
  },
  {
   "cell_type": "code",
   "execution_count": 26,
   "metadata": {},
   "outputs": [
    {
     "name": "stdout",
     "output_type": "stream",
     "text": [
      "0.7039988367020503\n"
     ]
    },
    {
     "data": {
      "text/plain": [
       "0.2960011632979497"
      ]
     },
     "execution_count": 26,
     "metadata": {},
     "output_type": "execute_result"
    }
   ],
   "source": [
    "X_train, X_test, y_train, y_test = train_test_split(st1_data_x, st1_data_y, test_size=0.33, random_state=42)\n",
    "lr = LogisticRegression(solver='lbfgs', max_iter=1000).fit(X_train,y_train)\n",
    "print(lr.score(X_test,y_test))\n",
    "\n",
    "y_prob = lr.predict(X_test)\n",
    "brier_score_loss(y_test, y_prob)\n"
   ]
  },
  {
   "cell_type": "code",
   "execution_count": null,
   "metadata": {},
   "outputs": [],
   "source": []
  }
 ],
 "metadata": {
  "kernelspec": {
   "display_name": "Python 3",
   "language": "python",
   "name": "python3"
  },
  "language_info": {
   "codemirror_mode": {
    "name": "ipython",
    "version": 3
   },
   "file_extension": ".py",
   "mimetype": "text/x-python",
   "name": "python",
   "nbconvert_exporter": "python",
   "pygments_lexer": "ipython3",
   "version": "3.10.7"
  },
  "orig_nbformat": 4
 },
 "nbformat": 4,
 "nbformat_minor": 2
}
